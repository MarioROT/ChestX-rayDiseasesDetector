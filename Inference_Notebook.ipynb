{
 "cells": [
  {
   "cell_type": "markdown",
   "id": "dfb32a80-0e1b-4ddf-b2ff-1fe20611345b",
   "metadata": {},
   "source": [
    "# Inferencia teniendo un modelo entrenado"
   ]
  },
  {
   "cell_type": "code",
   "execution_count": 1,
   "id": "fc7a0fe1",
   "metadata": {},
   "outputs": [],
   "source": [
    "import os\n",
    "os.environ[\"KMP_DUPLICATE_LIB_OK\"]=\"TRUE\""
   ]
  },
  {
   "cell_type": "code",
   "execution_count": 2,
   "id": "e496b5c5-b8f1-40b3-821c-ed62af8f54ee",
   "metadata": {},
   "outputs": [],
   "source": [
    "import ast\n",
    "import os\n",
    "import pathlib\n",
    "\n",
    "import neptune\n",
    "import numpy as np\n",
    "import torch\n",
    "from torch.utils.data import DataLoader\n",
    "from torchvision.models.detection.transform import GeneralizedRCNNTransform\n",
    "\n",
    "from datasets import ObjectDetectionDatasetSingle, ObjectDetectionDataSet\n",
    "from faster_RCNN import get_fasterRCNN_resnet\n",
    "from transformations import ComposeDouble, ComposeSingle, FunctionWrapperDouble, FunctionWrapperSingle, apply_nms, apply_score_threshold, normalize_01\n",
    "from utils import get_filenames_of_path, collate_single, save_json\n",
    "from visual import DatasetViewer, DatasetViewerSingle"
   ]
  },
  {
   "cell_type": "code",
   "execution_count": null,
   "id": "88f582ef-cf8b-4ddd-bfce-e986bfa6a87f",
   "metadata": {},
   "outputs": [],
   "source": [
    "params = {'EXPERIMENT': 'DIS-12',  # Nombre del experimento\n",
    "          'OWNER': 'Username',  # Nombre de Usuario en Neptune.ai\n",
    "          'INPUT_DIR': '../data/ChestXRay8/TestImgs',  # Imagenes para predicción\n",
    "          'PREDICTIONS_PATH': '../data/ChestXRay8/Predictions',  # Directorio para guardar predicciones\n",
    "          'MODEL_DIR': 'Experiments/chests/DIR-112/checkpoints/epoch=86-step=521.ckpt',  # Cargar el modelo del ultimo checkpoint guardado\n",
    "          'DOWNLOAD': False,  # Activar descarga desde Neptune.ai\n",
    "          'DOWNLOAD_PATH': '../data/ChestXRay8/prediction', # Directorio para guardar el modelo\n",
    "          'PROJECT': 'Disease Detection',  # Nombre del Proyecto\n",
    "          }"
   ]
  },
  {
   "cell_type": "code",
   "execution_count": null,
   "id": "c0f8bab4-464b-480b-883e-3e8e5e267ee8",
   "metadata": {},
   "outputs": [],
   "source": [
    "inputs = get_filenames_of_path(pathlib.Path(params['INPUT_DIR'])) # Cargar las imágenes\n",
    "inputs.sort()"
   ]
  },
  {
   "cell_type": "code",
   "execution_count": null,
   "id": "00c30ad2-9fd9-4090-b300-78a36fe83ed7",
   "metadata": {},
   "outputs": [],
   "source": [
    "# Realizar la trasnformación de formato y normalización a media 0 y std 1\n",
    "transforms = ComposeSingle([\n",
    "    FunctionWrapperSingle(np.moveaxis, source=-1, destination=0),\n",
    "    FunctionWrapperSingle(normalize_01)\n",
    "])"
   ]
  },
  {
   "cell_type": "code",
   "execution_count": null,
   "id": "a5f296e5-971c-40bc-a7ae-cdb3f110ec2a",
   "metadata": {},
   "outputs": [],
   "source": [
    "# Crear el objeto del Conjunto de datos con solo imagenes y transformaciones\n",
    "dataset = ObjectDetectionDatasetSingle(inputs=inputs,\n",
    "                                       transform=transforms,\n",
    "                                       use_cache=False,\n",
    "                                       )"
   ]
  },
  {
   "cell_type": "code",
   "execution_count": null,
   "id": "0e02b562-62e3-42a1-abbd-892c3b77f3ca",
   "metadata": {},
   "outputs": [],
   "source": [
    "# Crear el cargador de los datos por lote\n",
    "dataloader_prediction = DataLoader(dataset=dataset,\n",
    "                                   batch_size=1,\n",
    "                                   shuffle=False,\n",
    "                                   num_workers=0,\n",
    "                                   collate_fn=collate_single)"
   ]
  },
  {
   "cell_type": "code",
   "execution_count": null,
   "id": "618796d3-1009-42ce-8fbc-4e8197a652ce",
   "metadata": {},
   "outputs": [],
   "source": [
    "# Crear conexión con Neptune.ai y obtener el modelo\n",
    "api_key = os.getenv(\"NEPTUNE\") # cuando ya se tiene configurada la llave como variable de entorno # esto podria dar un error por no configurar la variable de entorno de lo contrario puede poner directamente la llave de la cuenta personalen neptune\n",
    "project_name = f'{params[\"OWNER\"]}/{params[\"PROJECT\"]}' # Nombre del proyecto\n",
    "project = neptune.init(project_qualified_name=project_name, api_token=api_key)  # Inicializar la conexión\n",
    "experiment_id = params['EXPERIMENT']  # Seleccionar el número de experimento (entrenamiento)\n",
    "experiment = project.get_experiments(id=experiment_id)[0] # cargar el experimento\n",
    "parameters = experiment.get_parameters() # Obtener parámetros\n",
    "properties = experiment.get_properties() # Obtener propiedades (clases, arquitecture, tamaño y relación de aspecto de cajas ancla, tamaños mínimo y máximo)"
   ]
  },
  {
   "cell_type": "code",
   "execution_count": null,
   "id": "f455a449-db53-4e14-aa41-e2192ce719a1",
   "metadata": {},
   "outputs": [],
   "source": [
    "# Transformaciones específicas para Faster R-CNN\n",
    "transform = GeneralizedRCNNTransform(min_size=int(parameters['MIN_SIZE']),\n",
    "                                     max_size=int(parameters['MAX_SIZE']),\n",
    "                                     image_mean=ast.literal_eval(parameters['IMG_MEAN']),\n",
    "                                     image_std=ast.literal_eval(parameters['IMG_STD']))"
   ]
  },
  {
   "cell_type": "code",
   "execution_count": null,
   "id": "abcea34a-aeb6-4ca2-9208-ac71074819b8",
   "metadata": {},
   "outputs": [],
   "source": [
    "# Verificación visual del conjunto del dato\n",
    "datasetviewer = DatasetViewerSingle(dataset, rccn_transform=None)\n",
    "datasetviewer.napari()"
   ]
  },
  {
   "cell_type": "code",
   "execution_count": null,
   "id": "8277d891-0926-4005-938f-a8caf9646ab2",
   "metadata": {},
   "outputs": [],
   "source": [
    "# Verificar si se descarga el modelo o se obtiene de el checkpoint\n",
    "if params['DOWNLOAD']:\n",
    "    download_path = pathlib.Path(os.getcwd()) / params['DOWNLOAD_PATH']\n",
    "    download_path.mkdir(parents=True, exist_ok=True)\n",
    "    model_name = 'best_model.pt'  # nombre asignado al modelo\n",
    "    # model_name = properties['checkpoint_name']  # Se carga cuando se guardo el checkpoint en Neptune\n",
    "    if not (download_path / model_name).is_file():\n",
    "        experiment.download_artifact(path=model_name, destination_dir=download_path)  # Descarga del modelo\n",
    "\n",
    "    model_state_dict = torch.load(download_path / model_name)\n",
    "else:\n",
    "    checkpoint = torch.load(params['MODEL_DIR']) # cargar el checkpoint guardado en local\n",
    "    model_state_dict = checkpoint['hyper_parameters']['model'].state_dict()"
   ]
  },
  {
   "cell_type": "code",
   "execution_count": null,
   "id": "72a78b32-2283-45ad-83c2-11337e4c2505",
   "metadata": {},
   "outputs": [],
   "source": [
    "# Cargar modelo\n",
    "model = get_fasterRCNN_resnet(num_classes=int(parameters['CLASSES']),\n",
    "                              backbone_name=parameters['BACKBONE'],\n",
    "                              anchor_size=ast.literal_eval(parameters['ANCHOR_SIZE']),\n",
    "                              aspect_ratios=ast.literal_eval(parameters['ASPECT_RATIOS']),\n",
    "                              fpn=ast.literal_eval(parameters['FPN']),\n",
    "                              min_size=int(parameters['MIN_SIZE']),\n",
    "                              max_size=int(parameters['MAX_SIZE'])\n",
    "                              )"
   ]
  },
  {
   "cell_type": "code",
   "execution_count": null,
   "id": "6d659f25-0d7d-4a97-be15-5795e24f2e71",
   "metadata": {},
   "outputs": [],
   "source": [
    "# Cargar los pesos del modelo\n",
    "model.load_state_dict(model_state_dict)"
   ]
  },
  {
   "cell_type": "code",
   "execution_count": null,
   "id": "1e59d69e-b9ca-45b3-8320-2a7d4a0e4c6b",
   "metadata": {},
   "outputs": [],
   "source": [
    "# Poner el modelo en modo inferencia, corre en CPU\n",
    "model.eval()\n",
    "for sample in dataloader_prediction: # iterar sobre las imagenes a predecir\n",
    "    x, x_name = sample\n",
    "    with torch.no_grad():\n",
    "        pred = model(x)\n",
    "        pred = {key: value.numpy() for key, value in pred[0].items()}\n",
    "        name = pathlib.Path(x_name[0])\n",
    "        save_dir = pathlib.Path(os.getcwd()) / params['PREDICTIONS_PATH'] # Directorio para guardar predicciones \n",
    "        save_dir.mkdir(parents=True, exist_ok=True)\n",
    "        pred_list = {key: value.tolist() for key, value in pred.items()}  # se transforman a listas para serializar\n",
    "        save_json(pred_list, path=save_dir / name.with_suffix('.json'))"
   ]
  },
  {
   "cell_type": "code",
   "execution_count": null,
   "id": "04a2e424-4308-4586-a2ca-d0349cffc594",
   "metadata": {},
   "outputs": [],
   "source": [
    "# Cargar los archivos de las preddicciones realizadas\n",
    "predictions = get_filenames_of_path(pathlib.Path(os.getcwd()) / params['PREDICTIONS_PATH'])\n",
    "predictions.sort()"
   ]
  },
  {
   "cell_type": "code",
   "execution_count": null,
   "id": "66697a0b-7989-4e44-8056-b62b70a49bc0",
   "metadata": {},
   "outputs": [],
   "source": [
    "# Crear el Conjunto de datos de predicciones\n",
    "iou_threshold = 0.25 # limite (umbral) de IoU para supresión de no máximos \n",
    "score_threshold = 0.6\n",
    "\n",
    "# Transformaciones a las imagenes de de formato, normalizacion, suprecion de no máximos y umbral de puntuación\n",
    "transforms_prediction = ComposeDouble([\n",
    "    FunctionWrapperDouble(np.moveaxis, source=-1, destination=0),\n",
    "    FunctionWrapperDouble(normalize_01),\n",
    "    FunctionWrapperDouble(apply_nms, input=False, target=True, iou_threshold=iou_threshold),\n",
    "    FunctionWrapperDouble(apply_score_threshold, input=False, target=True, score_threshold=score_threshold)\n",
    "])\n",
    "\n",
    "# Crear el conjunto de datos para visualizacion con predicciones\n",
    "dataset_prediction = ObjectDetectionDataSet(inputs=inputs,\n",
    "                                            targets=predictions,\n",
    "                                            transform=transforms_prediction,\n",
    "                                            use_cache=False)"
   ]
  },
  {
   "cell_type": "code",
   "execution_count": null,
   "id": "ccb62e53-0e06-4bb5-86a3-8c23d1556ddf",
   "metadata": {},
   "outputs": [],
   "source": [
    "# Mapeo de clases (padecimeintos) con colores\n",
    "colors = ['red','blue','black','purple','yellow','green','#aaffff','orange']\n",
    "color_mapping = {v:colors[i] for i,v in enumerate(mapping.values())}"
   ]
  },
  {
   "cell_type": "code",
   "execution_count": null,
   "id": "ff50e474-202d-48ac-b5d0-13d69c3b7de2",
   "metadata": {},
   "outputs": [],
   "source": [
    "# Visualizar predicciones (imagenes con cajas delimitadoras estimadas)\n",
    "datasetviewer_prediction = DatasetViewer(dataset_prediction, color_mapping)\n",
    "datasetviewer_prediction.napari()\n",
    "# sobre poner el numero del padecimeinto en las cajas delimitadoras correspondientes\n",
    "datasetviewer_prediction.gui_text_properties(datasetviewer_prediction.shape_layer)"
   ]
  },
  {
   "cell_type": "markdown",
   "id": "c3b26ebc-1df1-4829-9e72-1bd2452976e7",
   "metadata": {},
   "source": [
    "## Experimentar añadiendo NMS y umbral de puntuación"
   ]
  },
  {
   "cell_type": "code",
   "execution_count": null,
   "id": "0b440cbf-94fa-439c-ac9f-134959617f4d",
   "metadata": {},
   "outputs": [],
   "source": [
    "# Transformaciones de formato sin NMS directo ni umbral de puntuacion directo en transformacioens\n",
    "transforms_prediction = ComposeDouble([\n",
    "    FunctionWrapperDouble(np.moveaxis, source=-1, destination=0),\n",
    "    FunctionWrapperDouble(normalize_01)\n",
    "])\n",
    "# Creae el conjunto de datos con lsa predicciones realizadas\n",
    "dataset_prediction = ObjectDetectionDataSet(inputs=inputs,\n",
    "                                            targets=predictions,\n",
    "                                            transform=transforms_prediction,\n",
    "                                            use_cache=False)\n",
    "\n",
    "# Mapeo de clases (padecimeintos) con colores\n",
    "colors = ['red','blue','black','purple','yellow','green','#aaffff','orange']\n",
    "color_mapping = {v:colors[i] for i,v in enumerate(mapping.values())}\n",
    "\n",
    "# Visualizar imagenes con predicciones (estimaciones)\n",
    "datasetviewer_prediction = DatasetViewer(dataset_prediction, color_mapping)\n",
    "datasetviewer_prediction.napari()"
   ]
  },
  {
   "cell_type": "code",
   "execution_count": null,
   "id": "fde50455-2b3b-4530-bf12-fbade6e19bf2",
   "metadata": {},
   "outputs": [],
   "source": [
    "# Aplicar el umbral de puntuacion\n",
    "datasetviewer_prediction.gui_score_slider(datasetviewer_prediction.shape_layer)"
   ]
  },
  {
   "cell_type": "code",
   "execution_count": null,
   "id": "ace35a64-c53d-40f5-941e-485e085746c5",
   "metadata": {},
   "outputs": [],
   "source": [
    "# Aplicar la supresión de no máximos\n",
    "datasetviewer_prediction.gui_nms_slider(datasetviewer_prediction.shape_layer)"
   ]
  }
 ],
 "metadata": {
  "kernelspec": {
   "display_name": "CDGPU",
   "language": "python",
   "name": "cdgpu"
  },
  "language_info": {
   "codemirror_mode": {
    "name": "ipython",
    "version": 3
   },
   "file_extension": ".py",
   "mimetype": "text/x-python",
   "name": "python",
   "nbconvert_exporter": "python",
   "pygments_lexer": "ipython3",
   "version": "3.7.3"
  }
 },
 "nbformat": 4,
 "nbformat_minor": 5
}
