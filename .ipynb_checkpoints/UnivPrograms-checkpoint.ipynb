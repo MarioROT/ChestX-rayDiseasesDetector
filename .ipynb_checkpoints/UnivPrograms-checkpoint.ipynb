{
 "cells": [
  {
   "cell_type": "code",
   "execution_count": 25,
   "id": "8d32bed9",
   "metadata": {},
   "outputs": [],
   "source": [
    "import pandas as pd\n",
    "import numpy as np"
   ]
  },
  {
   "cell_type": "code",
   "execution_count": 26,
   "id": "56c1b414",
   "metadata": {},
   "outputs": [],
   "source": [
    "UnivProgs = pd.DataFrame({'University':[],\n",
    "                          'Country':[],\n",
    "                          'State':[],\n",
    "                          'Programs':[],\n",
    "                          'Requirements':[],\n",
    "                          'Deadlines':[],\n",
    "                          'Application fee':[],\n",
    "                          'Stipends':[],\n",
    "                          'tuition & Fees':[],\n",
    "                          'Facilities':[],\n",
    "                          'Comments':[],\n",
    "                          'People':[]})\n",
    "UnivProgs.to_csv('UnivPrograms.csv')"
   ]
  },
  {
   "cell_type": "code",
   "execution_count": 27,
   "id": "978b0bc2",
   "metadata": {},
   "outputs": [
    {
     "name": "stdout",
     "output_type": "stream",
     "text": [
      "U:  <class 'str'>\n",
      "  Unnamed: 0       University Country       State Programs  \\\n",
      "0        NaN  Carnegie Mellon     EUA  Pittsburgh    Nadie   \n",
      "\n",
      "                                        Requirements  \\\n",
      "0  \"● (GRE) scores.\\n● TOEFL - iBT score of at le...   \n",
      "\n",
      "                                           Deadlines Application fee  \\\n",
      "0  \"November 19 (Early)  Deciembre 9-10 (Late)\\n\\...    75+50\\125+75   \n",
      "\n",
      "                                            Stipends  \\\n",
      "0  \"All applicants admitted to the doctoral progr...   \n",
      "\n",
      "                                      tuition & Fees  \\\n",
      "0  \"TOTAL: $72,239\\nTuition: $45,700\\nStudent Act...   \n",
      "\n",
      "                                          Facilities  \\\n",
      "0  Existen tres opciones de departamentos, pero n...   \n",
      "\n",
      "                                            Comments People  \n",
      "0  We also aim to allow students as much freedom ...  Nadie  \n"
     ]
    }
   ],
   "source": [
    "from tkinter import *\n",
    "root = Tk()\n",
    "root.title('Programs Saver')\n",
    "root.geometry('700x700') \n",
    "\n",
    "def myClick():\n",
    "#      hello = 'Hello ' + e.get()\n",
    "#      myLabel = Label(root, text = hello)\n",
    "#      e.delete(0, 'end')\n",
    "#      myLabel.pack(pady = 10)\n",
    "    UnivProgs = pd.read_csv('UnivPrograms.csv')\n",
    "    U = Univ.get()\n",
    "    print('U: ',type(U))\n",
    "    C = Country.get()\n",
    "    S = State.get()\n",
    "    P = Programs.get()\n",
    "    R = Requirements.get()\n",
    "    D = Deadlines.get()\n",
    "    A = ApFees.get()\n",
    "    ST = Stipends.get()\n",
    "    F = Fees.get()\n",
    "    FA = Facilities.get()\n",
    "    E = ExtCom.get()\n",
    "    P = People.get()\n",
    "    df2 = pd.DataFrame({'University':[U],\n",
    "                                'Country':[C],\n",
    "                                'State':[S],\n",
    "                                'Programs':[P],\n",
    "                                'Requirements':[R],\n",
    "                                'Deadlines':[D],\n",
    "                                'Application fee':[A],\n",
    "                                'Stipends':[ST],\n",
    "                                'tuition & Fees':[F],\n",
    "                                'Facilities':[FA],\n",
    "                                'Comments':[E],\n",
    "                                'People':[P]})\n",
    "    UnivProgs = UnivProgs.append(df2, ignore_index = True)\n",
    "    print(UnivProgs)\n",
    "    UnivProgs.to_csv('UnivPrograms.csv', index = False)\n",
    "    Univ.delete(0, 'end')\n",
    "    Country.delete(0, 'end')\n",
    "    State.delete(0, 'end')\n",
    "    Programs.delete(0, 'end')\n",
    "    Requirements.delete(0, 'end')\n",
    "    Deadlines.delete(0, 'end')\n",
    "    ApFees.delete(0, 'end')\n",
    "    Stipends.delete(0, 'end')\n",
    "    Fees.delete(0, 'end')\n",
    "    Facilities.delete(0, 'end')\n",
    "    ExtCom.delete(0, 'end')\n",
    "    People.delete(0, 'end') \n",
    "\n",
    "# e = Entry(root, width = 50, font=('Helvetica',15))\n",
    "# e.pack(padx=10, pady=10)\n",
    "\n",
    "Label(root, text='Insert university name: ').pack(pady=0)\n",
    "Univ=Entry(root, width=50,font=('Helvetica',15))\n",
    "# e. insert(END, 'your email here')\n",
    "Univ.pack(padx=10, pady=10)\n",
    "\n",
    "Label(root, text='Insert country name: ').pack(pady=0)\n",
    "Country=Entry(root, width=50,font=('Helvetica',15))\n",
    "Country.pack(padx=10, pady=10)\n",
    "Label(root, text='Insert state name: ').pack(pady=0)\n",
    "State=Entry(root, width=50,font=('Helvetica',15))\n",
    "State.pack(padx=10, pady=10)\n",
    "Label(root, text='Insert program name: ').pack(pady=0)\n",
    "Programs=Entry(root, width=50,font=('Helvetica',15))\n",
    "Programs.pack(padx=10, pady=10)\n",
    "Label(root, text='Insert requirements: ').pack(pady=0)\n",
    "Requirements=Entry(root, width=50,font=('Helvetica',15))\n",
    "Requirements.pack(padx=10, pady=10)\n",
    "Label(root, text='Insert deadlines: ').pack(pady=0)\n",
    "Deadlines=Entry(root, width=50,font=('Helvetica',15))\n",
    "Deadlines.pack(padx=10, pady=10)\n",
    "Label(root, text='Insert application fees: ').pack(pady=0)\n",
    "ApFees=Entry(root, width=50,font=('Helvetica',15))\n",
    "ApFees.pack(padx=10, pady=10)\n",
    "Label(root, text='Insert stipends information: ').pack(pady=0)\n",
    "Stipends=Entry(root, width=50,font=('Helvetica',15))\n",
    "Stipends.pack(padx=10, pady=10)\n",
    "Label(root, text='Insert Tuition & Fees: ').pack(pady=0)\n",
    "Fees=Entry(root, width=50,font=('Helvetica',15))\n",
    "Fees.pack(padx=10, pady=10)\n",
    "Label(root, text='Insert Facilities information: ').pack(pady=0)\n",
    "Facilities=Entry(root, width=50,font=('Helvetica',15))\n",
    "Facilities.pack(padx=10, pady=10)\n",
    "Label(root, text='Insert extra commentaries: ').pack(pady=0)\n",
    "ExtCom=Entry(root, width=50,font=('Helvetica',15))\n",
    "ExtCom.pack(padx=10, pady=10)\n",
    "Label(root, text='Insert people: ').pack(pady=0)\n",
    "People=Entry(root, width=50,font=('Helvetica',15))\n",
    "People.pack(padx=10, pady=10)\n",
    "\n",
    "myButton=Button(root,text=\"Save Information\",command=myClick)\n",
    "myButton.pack(pady=10)\n",
    "\n",
    "root.mainloop()"
   ]
  },
  {
   "cell_type": "code",
   "execution_count": 46,
   "id": "4f136265",
   "metadata": {},
   "outputs": [
    {
     "data": {
      "text/html": [
       "<div>\n",
       "<style scoped>\n",
       "    .dataframe tbody tr th:only-of-type {\n",
       "        vertical-align: middle;\n",
       "    }\n",
       "\n",
       "    .dataframe tbody tr th {\n",
       "        vertical-align: top;\n",
       "    }\n",
       "\n",
       "    .dataframe thead th {\n",
       "        text-align: right;\n",
       "    }\n",
       "</style>\n",
       "<table border=\"1\" class=\"dataframe\">\n",
       "  <thead>\n",
       "    <tr style=\"text-align: right;\">\n",
       "      <th></th>\n",
       "      <th>University</th>\n",
       "      <th>Country</th>\n",
       "      <th>State</th>\n",
       "      <th>Programs</th>\n",
       "      <th>Requirements</th>\n",
       "      <th>Deadlines</th>\n",
       "      <th>Application fee</th>\n",
       "      <th>Stipends</th>\n",
       "      <th>tuition &amp; Fees</th>\n",
       "      <th>Facilities</th>\n",
       "      <th>Comments</th>\n",
       "      <th>People</th>\n",
       "    </tr>\n",
       "  </thead>\n",
       "  <tbody>\n",
       "  </tbody>\n",
       "</table>\n",
       "</div>"
      ],
      "text/plain": [
       "Empty DataFrame\n",
       "Columns: [University, Country, State, Programs, Requirements, Deadlines, Application fee, Stipends, tuition & Fees, Facilities, Comments, People]\n",
       "Index: []"
      ]
     },
     "execution_count": 46,
     "metadata": {},
     "output_type": "execute_result"
    }
   ],
   "source": [
    "UnivProgs = read_csv('Pruebita.csv')"
   ]
  },
  {
   "cell_type": "code",
   "execution_count": 17,
   "id": "d26739e4",
   "metadata": {},
   "outputs": [
    {
     "ename": "TclError",
     "evalue": "invalid command name \".!entry\"",
     "output_type": "error",
     "traceback": [
      "\u001b[1;31m---------------------------------------------------------------------------\u001b[0m",
      "\u001b[1;31mTclError\u001b[0m                                  Traceback (most recent call last)",
      "\u001b[1;32m<ipython-input-17-c467f310b257>\u001b[0m in \u001b[0;36m<module>\u001b[1;34m\u001b[0m\n\u001b[1;32m----> 1\u001b[1;33m \u001b[0mU\u001b[0m \u001b[1;33m=\u001b[0m \u001b[0mUniv\u001b[0m\u001b[1;33m.\u001b[0m\u001b[0mget\u001b[0m\u001b[1;33m(\u001b[0m\u001b[1;33m)\u001b[0m\u001b[1;33m\u001b[0m\u001b[1;33m\u001b[0m\u001b[0m\n\u001b[0m",
      "\u001b[1;32m~\\Anaconda3\\envs\\WineBot\\lib\\tkinter\\__init__.py\u001b[0m in \u001b[0;36mget\u001b[1;34m(self)\u001b[0m\n\u001b[0;32m   2680\u001b[0m     \u001b[1;32mdef\u001b[0m \u001b[0mget\u001b[0m\u001b[1;33m(\u001b[0m\u001b[0mself\u001b[0m\u001b[1;33m)\u001b[0m\u001b[1;33m:\u001b[0m\u001b[1;33m\u001b[0m\u001b[1;33m\u001b[0m\u001b[0m\n\u001b[0;32m   2681\u001b[0m         \u001b[1;34m\"\"\"Return the text.\"\"\"\u001b[0m\u001b[1;33m\u001b[0m\u001b[1;33m\u001b[0m\u001b[0m\n\u001b[1;32m-> 2682\u001b[1;33m         \u001b[1;32mreturn\u001b[0m \u001b[0mself\u001b[0m\u001b[1;33m.\u001b[0m\u001b[0mtk\u001b[0m\u001b[1;33m.\u001b[0m\u001b[0mcall\u001b[0m\u001b[1;33m(\u001b[0m\u001b[0mself\u001b[0m\u001b[1;33m.\u001b[0m\u001b[0m_w\u001b[0m\u001b[1;33m,\u001b[0m \u001b[1;34m'get'\u001b[0m\u001b[1;33m)\u001b[0m\u001b[1;33m\u001b[0m\u001b[1;33m\u001b[0m\u001b[0m\n\u001b[0m\u001b[0;32m   2683\u001b[0m     \u001b[1;32mdef\u001b[0m \u001b[0micursor\u001b[0m\u001b[1;33m(\u001b[0m\u001b[0mself\u001b[0m\u001b[1;33m,\u001b[0m \u001b[0mindex\u001b[0m\u001b[1;33m)\u001b[0m\u001b[1;33m:\u001b[0m\u001b[1;33m\u001b[0m\u001b[1;33m\u001b[0m\u001b[0m\n\u001b[0;32m   2684\u001b[0m         \u001b[1;34m\"\"\"Insert cursor at INDEX.\"\"\"\u001b[0m\u001b[1;33m\u001b[0m\u001b[1;33m\u001b[0m\u001b[0m\n",
      "\u001b[1;31mTclError\u001b[0m: invalid command name \".!entry\""
     ]
    }
   ],
   "source": [
    "U = Univ.get()"
   ]
  },
  {
   "cell_type": "code",
   "execution_count": null,
   "id": "fb5f0fc2",
   "metadata": {},
   "outputs": [],
   "source": []
  }
 ],
 "metadata": {
  "kernelspec": {
   "display_name": "Python (WineBot)",
   "language": "python",
   "name": "winebot"
  },
  "language_info": {
   "codemirror_mode": {
    "name": "ipython",
    "version": 3
   },
   "file_extension": ".py",
   "mimetype": "text/x-python",
   "name": "python",
   "nbconvert_exporter": "python",
   "pygments_lexer": "ipython3",
   "version": "3.6.12"
  }
 },
 "nbformat": 4,
 "nbformat_minor": 5
}
