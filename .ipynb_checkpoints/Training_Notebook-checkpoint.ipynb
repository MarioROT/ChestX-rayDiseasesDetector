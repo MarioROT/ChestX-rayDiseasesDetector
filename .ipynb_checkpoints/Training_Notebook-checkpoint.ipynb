{
 "cells": [
  {
   "cell_type": "markdown",
   "metadata": {},
   "source": [
    "## Entrenamiento con backbone de Faster R-CNN para Detección de padecimeintos en radiografías de Tórax"
   ]
  },
  {
   "cell_type": "markdown",
   "metadata": {},
   "source": [
    "### Importaciones de librerias y Módulos necesarios"
   ]
  },
  {
   "cell_type": "code",
   "execution_count": 2,
   "metadata": {},
   "outputs": [],
   "source": [
    "import sys\n",
    "sys.path.append('D:/GitHub/Mariuki/DiseaseDetector/Detector de Padecimientos Rayos-X Torax - Codigo')\n",
    "import os\n",
    "os.environ[\"KMP_DUPLICATE_LIB_OK\"]=\"TRUE\"\n",
    "\n",
    "import pathlib\n",
    "import albumentations as A\n",
    "import numpy as np\n",
    "from torch.utils.data import DataLoader\n",
    "\n",
    "from datasets import ObjectDetectionDataSet\n",
    "from transformations import ComposeDouble, Clip, AlbumentationWrapper, FunctionWrapperDouble, normalize_01\n",
    "from utils import get_filenames_of_path, collate_double, read_json, log_mapping_neptune,log_model_neptune, log_packages_neptune\n",
    "from neptunecontrib.api import log_table\n",
    "import importlib_metadata\n",
    "\n",
    "from pytorch_lightning.loggers.neptune import NeptuneLogger\n",
    "from pytorch_lightning import Trainer\n",
    "from pytorch_lightning import seed_everything\n",
    "from pytorch_lightning.callbacks import ModelCheckpoint,LearningRateMonitor,EarlyStopping\n",
    "\n",
    "from faster_RCNN import FasterRCNN_lightning\n",
    "from faster_RCNN import get_fasterRCNN_mobilenet, get_fasterRCNN_resnet, get_fasterRCNN_mobilenet, get_fasterRCNN_shufflenet_v2, get_fasterRCNN_efficientnet\n"
   ]
  },
  {
   "cell_type": "code",
   "execution_count": null,
   "metadata": {},
   "outputs": [],
   "source": [
    "# Hiperparámetros\n",
    "params = {'OWNER': 'rubsini',  # Nombre de usuario en Neptune.ai\n",
    "          'SAVE_DIR': \"../Experiments/\",  # Directorio para guardar los checkpoints en entrenamiento\n",
    "          'PROJECT': 'DiseasesDetection', # Nombre dle proyecto creado en Neptune.ai\n",
    "          'EXPERIMENT': 'chests', # nombre del experimento dentro del proyecto\n",
    "          'LOG_MODEL': False,  # Si se cargará el modelo a neptune después del entrenamiento\n",
    "          'GPU': 1,  # Activar o  desactivar para elegir entrenar en GPU o CPU\n",
    "          'BATCH_SIZE': 8, # Tamaño del lote\n",
    "          'LR': 0.001, # Tasa de aprendizaje\n",
    "          'PRECISION': 16, # Precisión de cálculo\n",
    "          'CLASSES': 8, # Número de clases (incluyendo el fondo)\n",
    "          'SEED': 42, # Semilla de aleatoreidad\n",
    "          'MAXEPOCHS': 500, # Número máximo de épocas\n",
    "          \"PATIENCE\": 50, # Número de épocas sin mejora para terminal el entrenamiento\n",
    "          'BACKBONE': 'shufflenet_v2_x0_5', # Aruitectura a utilizar como base para Faster R-CNN\n",
    "          'FPN': False, # Activar uso o no de FPN\n",
    "          'ANCHOR_SIZE': ((32, 64, 128, 256, 512),), # Tamaños de las Cajas Acla\n",
    "          'ASPECT_RATIOS': ((0.5, 1.0, 2.0),), # Relaciones de aspectod e als cajas ancla\n",
    "          'MIN_SIZE': 1024, # Tamaño mínimo de las imágenes\n",
    "          'MAX_SIZE': 1024, # Tamaño máximo de las  imágenes\n",
    "          'IMG_MEAN': [0.485, 0.456, 0.406], # Medias de ImageNet (Donde se preentrenaron los modelos)\n",
    "          'IMG_STD': [0.229, 0.224, 0.225], # Desviaciones estándar de ImageNet (Donde se preentrenaron los modelos)\n",
    "          'IOU_THRESHOLD': 0.5 # Umbral de Intersección sobre Union para evaluar predicciones en entrenamiento\n",
    "          }"
   ]
  },
  {
   "cell_type": "markdown",
   "metadata": {},
   "source": [
    "### Configuraciones y Carga de datos "
   ]
  },
  {
   "cell_type": "code",
   "execution_count": 4,
   "metadata": {},
   "outputs": [],
   "source": [
    "# Llave personal de usuario obtenida de Neptune.ai\n",
    "api_key = os.getenv(\"NEPTUNE\")\n",
    "# Se puede copiar y poner directamente la llave. O configurar como variable de entorno"
   ]
  },
  {
   "cell_type": "code",
   "execution_count": 5,
   "metadata": {},
   "outputs": [],
   "source": [
    "# Crear y obtener el directorio para guardar los checkpoints\n",
    "save_dir = os.getcwd() if not params[\"SAVE_DIR\"] else params[\"SAVE_DIR\"]"
   ]
  },
  {
   "cell_type": "code",
   "execution_count": 6,
   "metadata": {},
   "outputs": [],
   "source": [
    "# Directorio donde se enceuentran las imágenes y etiquetas para entrenamiento\n",
    "root = pathlib.Path('../data/ChestXRay8')\n",
    "\n",
    "# Cargar las imágenes y las etiquetas\n",
    "inputs = get_filenames_of_path(root / 'ChestBBImages')\n",
    "targets = get_filenames_of_path(root / 'ChestBBLabels')\n",
    "\n",
    "# Ordenar entradas y objetivos\n",
    "inputs.sort()\n",
    "targets.sort()"
   ]
  },
  {
   "cell_type": "code",
   "execution_count": 8,
   "metadata": {},
   "outputs": [
    {
     "data": {
      "text/plain": [
       "{'Infiltrate': 0,\n",
       " 'Atelectasis': 1,\n",
       " 'Pneumonia': 2,\n",
       " 'Cardiomegaly': 3,\n",
       " 'Effusion': 4,\n",
       " 'Pneumothorax': 5,\n",
       " 'Mass': 6,\n",
       " 'Nodule': 7}"
      ]
     },
     "execution_count": 8,
     "metadata": {},
     "output_type": "execute_result"
    }
   ],
   "source": [
    "# Mapear las etiquetas con valores enteros\n",
    "mapping = read_json(pathlib.Path('LabelsMappping.json'))\n",
    "mapping"
   ]
  },
  {
   "cell_type": "markdown",
   "metadata": {},
   "source": [
    "### Transformaciones, Creación de Datasets y Dataloaders"
   ]
  },
  {
   "cell_type": "code",
   "execution_count": 9,
   "metadata": {},
   "outputs": [],
   "source": [
    "# Transformaciones iniciales de entrenameinto (formato, normalizacion a media 0 y std 1)\n",
    "# Aumentado con volteos y rescalados\n",
    "transforms_training = ComposeDouble([\n",
    "            Clip(),\n",
    "            # AlbumentationWrapper(albumentation=A.HorizontalFlip(p=0.5)),\n",
    "            # AlbumentationWrapper(albumentation=A.RandomScale(p=0.5, scale_limit=0.5)),\n",
    "            # AlbuWrapper(albu=A.VerticalFlip(p=0.5)),\n",
    "            # FunctionWrapperDouble(np.moveaxis, source=-1, destination=0),\n",
    "            FunctionWrapperDouble(normalize_01)#,\n",
    "            # RescaleWithBB([256],'bilinear')\n",
    "         ])"
   ]
  },
  {
   "cell_type": "code",
   "execution_count": 10,
   "metadata": {},
   "outputs": [],
   "source": [
    "# Transformaciones para validación (formato, normalizacion a media 0 y std 1)\n",
    "transforms_validation = ComposeDouble([\n",
    "            Clip(),\n",
    "            # FunctionWrapperDouble(np.moveaxis, source=-1, destination=0),\n",
    "            FunctionWrapperDouble(normalize_01),\n",
    "         ])"
   ]
  },
  {
   "cell_type": "code",
   "execution_count": 11,
   "metadata": {},
   "outputs": [],
   "source": [
    "# Transformaciones para datos de prueba (formato, normalizacion a media 0 y std 1)\n",
    "transforms_test = ComposeDouble([\n",
    "            Clip(),\n",
    "            # FunctionWrapperDouble(np.moveaxis, source=-1, destination=0),\n",
    "            FunctionWrapperDouble(normalize_01),\n",
    "         ])"
   ]
  },
  {
   "cell_type": "code",
   "execution_count": 12,
   "metadata": {},
   "outputs": [
    {
     "name": "stderr",
     "output_type": "stream",
     "text": [
      "Global seed set to 42\n"
     ]
    },
    {
     "data": {
      "text/plain": [
       "42"
      ]
     },
     "execution_count": 12,
     "metadata": {},
     "output_type": "execute_result"
    }
   ],
   "source": [
    "seed_everything(params['SEED']) # Semilla de aleatoreidad"
   ]
  },
  {
   "cell_type": "markdown",
   "metadata": {},
   "source": [
    "#### Division del conjunto de datos en subconjuntos: (entrenamiento, validación y prueba)"
   ]
  },
  {
   "cell_type": "code",
   "execution_count": 13,
   "metadata": {},
   "outputs": [],
   "source": [
    "# Parrticipación estratificada: misma cantidad de instancias respecto a sus etiquetas en cada subconjunto\n",
    "StratifiedPartition = read_json(pathlib.Path('DatasetSplits/ChestXRay8/split1.json'))\n",
    "\n",
    "inputs_train = [pathlib.Path('C:/Users/mario/Desktop/ChestXRay8/256/ChestBBImages/' + i[:-4] + '.png') for i in list(StratifiedPartition['Train'].keys())]\n",
    "targets_train = [pathlib.Path('C:/Users/mario/Desktop/ChestXRay8/256/ChestBBLabels/' + i[:-4] + '.json') for i in list(StratifiedPartition['Train'].keys())]\n",
    "\n",
    "inputs_valid = [pathlib.Path('C:/Users/mario/Desktop/ChestXRay8/256/ChestBBImages/' + i[:-4] + '.png') for i in list(StratifiedPartition['Val'].keys())]\n",
    "targets_valid = [pathlib.Path('data/ChestXRay8/256/ChestBBLabels/' + i[:-4] + '.json') for i in list(StratifiedPartition['Val'].keys())]\n",
    "\n",
    "inputs_test = [pathlib.Path('C:/Users/mario/Desktop/ChestXRay8/256/ChestBBImages/' + i[:-4] + '.png') for i in list(StratifiedPartition['Test'].keys())]\n",
    "targets_test = [pathlib.Path('C:/Users/mario/Desktop/ChestXRay8/256/ChestBBLabels/' + i[:-4] + '.json') for i in list(StratifiedPartition['Test'].keys())]\n",
    "\n",
    "lt = len(inputs_train)+len(inputs_valid)+len(inputs_test)\n",
    "ltr,ptr,lvd,pvd,lts,pts = len(inputs_train), len(inputs_train)/lt, len(inputs_valid), len(inputs_valid)/lt, len(inputs_test), len(inputs_test)/lt\n",
    "print('Total de datos: {}\\nDatos entrenamiento: {} ({:.2f}%)\\nDatos validación: {} ({:.2f}%)\\nDatos Prueba: {} ({:.2f}%)'.format(lt,ltr,ptr,lvd,pvd,lts,pts))"
   ]
  },
  {
   "cell_type": "code",
   "execution_count": 14,
   "metadata": {},
   "outputs": [],
   "source": [
    "# Crear conjunto de datos de entrenamiento\n",
    "dataset_train = ObjectDetectionDataSet(inputs=inputs_train,\n",
    "                                       targets=targets_train,\n",
    "                                       transform=transforms_training,\n",
    "                                       add_dim = 3,\n",
    "                                       use_cache=True,\n",
    "                                       convert_to_format=None,\n",
    "                                       mapping=mapping,\n",
    "                                       tgt_int64=True)"
   ]
  },
  {
   "cell_type": "code",
   "execution_count": 15,
   "metadata": {},
   "outputs": [],
   "source": [
    "# Crear conjunto de datos de validación\n",
    "dataset_valid = ObjectDetectionDataSet(inputs=inputs_valid,\n",
    "                                       targets=targets_valid,\n",
    "                                       transform=transforms_validation,\n",
    "                                       add_dim = 3,\n",
    "                                       use_cache=True,\n",
    "                                       convert_to_format=None,\n",
    "                                       mapping=mapping,\n",
    "                                       tgt_int64=True)"
   ]
  },
  {
   "cell_type": "code",
   "execution_count": 16,
   "metadata": {},
   "outputs": [],
   "source": [
    "# Crear conjunto de datos de prueba\n",
    "dataset_test = ObjectDetectionDataSet(inputs=inputs_test,\n",
    "                                      targets=targets_test,\n",
    "                                      transform=transforms_test,\n",
    "                                      add_dim = 3,\n",
    "                                      use_cache=True,\n",
    "                                      convert_to_format=None,\n",
    "                                      mapping=mapping,\n",
    "                                      tgt_int64=True)"
   ]
  },
  {
   "cell_type": "code",
   "execution_count": 17,
   "metadata": {},
   "outputs": [],
   "source": [
    "# Crear cargador de datos de entrenamiento\n",
    "dataloader_train = DataLoader(dataset=dataset_train,\n",
    "                              batch_size=params['BATCH_SIZE'],\n",
    "                              shuffle=True,\n",
    "                              num_workers=6,\n",
    "                              collate_fn=collate_double)"
   ]
  },
  {
   "cell_type": "code",
   "execution_count": 18,
   "metadata": {},
   "outputs": [],
   "source": [
    "# Crear cargador de datos de validacion\n",
    "dataloader_valid = DataLoader(dataset=dataset_valid,\n",
    "                              batch_size=params['BATCH_SIZE'],\n",
    "                              shuffle=False,\n",
    "                              num_workers=6,\n",
    "                              collate_fn=collate_double)"
   ]
  },
  {
   "cell_type": "code",
   "execution_count": 19,
   "metadata": {},
   "outputs": [],
   "source": [
    "# Crear cargador de datos de prueba\n",
    "dataloader_test = DataLoader(dataset=dataset_test,\n",
    "                             batch_size=params['BATCH_SIZE'],\n",
    "                             shuffle=False,\n",
    "                             num_workers=6,\n",
    "                             collate_fn=collate_double)"
   ]
  },
  {
   "cell_type": "markdown",
   "metadata": {},
   "source": [
    "### Preparación de entorno para correr modelo"
   ]
  },
  {
   "cell_type": "code",
   "execution_count": 20,
   "metadata": {},
   "outputs": [
    {
     "name": "stderr",
     "output_type": "stream",
     "text": [
      "NeptuneLogger will work in online mode\n"
     ]
    },
    {
     "name": "stdout",
     "output_type": "stream",
     "text": [
      "https://app.neptune.ai/rubsini/DiseasesDetection/e/DIS-32\r\n"
     ]
    }
   ],
   "source": [
    "#Cargador a Neptune\n",
    "neptune_logger = NeptuneLogger(\n",
    "    api_key=api_key,\n",
    "    project_name=f'{params[\"OWNER\"]}/{params[\"PROJECT\"]}',  \n",
    "    experiment_name=params['EXPERIMENT'],\n",
    "    params=params\n",
    ")\n",
    "\n",
    "assert neptune_logger.name  # Se obtiene una solicitud http para verificar la existencia del proyecto en neptune"
   ]
  },
  {
   "cell_type": "code",
   "execution_count": 21,
   "metadata": {},
   "outputs": [],
   "source": [
    "# Inicializar el modelo\n",
    "model = get_fasterRCNN_shufflenet_v2(num_classes=params['CLASSES'], ## get_fasterRCNN_resnet, get_fasterRCNN_mobilenet, get_fasterRCNN_shufflenet_v2, get_fasterRCNN_efficientnet\n",
    "                                     backbone_name= params['BACKBONE'],\n",
    "                                     anchor_size=params['ANCHOR_SIZE'],\n",
    "                                     aspect_ratios=params['ASPECT_RATIOS'],\n",
    "                                     fpn=params['FPN'],\n",
    "                                     min_size=params['MIN_SIZE'],\n",
    "                                     max_size=params['MAX_SIZE'])"
   ]
  },
  {
   "cell_type": "code",
   "execution_count": 22,
   "metadata": {},
   "outputs": [],
   "source": [
    "# Inicializador de Pytorch Lightning\n",
    "task = FasterRCNN_lightning(model=model, lr=params['LR'], iou_threshold=params['IOU_THRESHOLD'])"
   ]
  },
  {
   "cell_type": "code",
   "execution_count": 23,
   "metadata": {},
   "outputs": [],
   "source": [
    "# Monitoreos\n",
    "checkpoint_callback = ModelCheckpoint(monitor='Validation_mAP', mode='max')\n",
    "learningrate_callback = LearningRateMonitor(logging_interval='step', log_momentum=False)\n",
    "early_stopping_callback = EarlyStopping(monitor='Validation_mAP', patience=50, mode='max')"
   ]
  },
  {
   "cell_type": "code",
   "execution_count": 24,
   "metadata": {},
   "outputs": [
    {
     "name": "stderr",
     "output_type": "stream",
     "text": [
      "GPU available: True, used: True\n",
      "TPU available: False, using: 0 TPU cores\n"
     ]
    }
   ],
   "source": [
    "# Inicializador del entrenamiento\n",
    "trainer = Trainer(gpus=params[\"GPU\"],\n",
    "                  precision=params['PRECISION'],  # Al probar con 16, enable_pl_optimizer=False\n",
    "                  callbacks=[checkpoint_callback, learningrate_callback, early_stopping_callback],\n",
    "                  default_root_dir=save_dir,  # Directorio para guardar los checkpoints\n",
    "                  logger=neptune_logger,\n",
    "                  log_every_n_steps=1,\n",
    "                  num_sanity_val_steps=0,\n",
    "                  benchmark = True#,\n",
    "                  #accumulate_grad_batches=4#,  # Tambien se puede diccionario para modificar el numero de accumulated batches en cada epoca {indexEpoch:Num.Acc.Batches}\n",
    "                  # enable_pl_optimizer=False,  # Se descomenta cuando se usa precisión de 16\n",
    "                  )"
   ]
  },
  {
   "cell_type": "markdown",
   "metadata": {},
   "source": [
    "### Ejecutar entrenamiento"
   ]
  },
  {
   "cell_type": "code",
   "execution_count": null,
   "metadata": {},
   "outputs": [
    {
     "name": "stderr",
     "output_type": "stream",
     "text": [
      "LOCAL_RANK: 0 - CUDA_VISIBLE_DEVICES: [0]\n",
      "\n",
      "  | Name  | Type       | Params\n",
      "-------------------------------------\n",
      "0 | model | FasterRCNN | 40.4 M\n",
      "-------------------------------------\n",
      "40.4 M    Trainable params\n",
      "0         Non-trainable params\n",
      "40.4 M    Total params\n",
      "161.426   Total estimated model params size (MB)\n"
     ]
    },
    {
     "data": {
      "application/vnd.jupyter.widget-view+json": {
       "model_id": "634708b0a2ae4811993f9456fb556dea",
       "version_major": 2,
       "version_minor": 0
      },
      "text/plain": [
       "Training: 0it [00:00, ?it/s]"
      ]
     },
     "metadata": {},
     "output_type": "display_data"
    },
    {
     "data": {
      "application/vnd.jupyter.widget-view+json": {
       "model_id": "",
       "version_major": 2,
       "version_minor": 0
      },
      "text/plain": [
       "Validating: 0it [00:00, ?it/s]"
      ]
     },
     "metadata": {},
     "output_type": "display_data"
    },
    {
     "name": "stdout",
     "output_type": "stream",
     "text": [
      "Method :  MethodAveragePrecision.EVERY_POINT_INTERPOLATION\n",
      "Pre\n",
      "post: ii:  [1] mrec:  [0] mpre:  [0] ap:  0\n",
      "Pre\n",
      "post: ii:  [1] mrec:  [0] mpre:  [0] ap:  0\n",
      "Pre\n",
      "post: ii:  [1] mrec:  [0] mpre:  [0] ap:  0\n",
      "Pre\n",
      "post: ii:  [1] mrec:  [0] mpre:  [0] ap:  0\n",
      "Pre\n",
      "post: ii:  [1] mrec:  [0] mpre:  [0] ap:  0\n",
      "Pre\n",
      "post: ii:  [1] mrec:  [0] mpre:  [0] ap:  0\n",
      "Pre\n",
      "post: ii:  [1] mrec:  [0] mpre:  [0] ap:  0\n",
      "Pre\n",
      "post: ii:  [1] mrec:  [0] mpre:  [0] ap:  0\n"
     ]
    },
    {
     "name": "stderr",
     "output_type": "stream",
     "text": [
      "Info (NVML): GPU is lost. GPU usage metrics may not be reported. For more information, see https://docs-legacy.neptune.ai/logging-and-managing-experiment-results/logging-experiment-data.html#hardware-consumption \n"
     ]
    }
   ],
   "source": [
    "# Comenzar el entrenamiento-validación\n",
    "trainer.max_epochs = params['MAXEPOCHS']\n",
    "trainer.fit(task,\n",
    "            train_dataloader=dataloader_train,\n",
    "            val_dataloaders=dataloader_valid)"
   ]
  },
  {
   "cell_type": "markdown",
   "metadata": {},
   "source": [
    "### Prueba post-entrenamiento y Carga de datos a Neptune.ai"
   ]
  },
  {
   "cell_type": "code",
   "execution_count": null,
   "metadata": {},
   "outputs": [],
   "source": [
    "## Obtener el mejor modelo y usarlo para predecir la información de prueba, \n",
    "# basado en el conjunto de datos de validación y conforme a la metrica usada (mAP from pascal VOC)\n",
    "# Realizar evaluación con el cubconjunto de prueba\n",
    "trainer.test(ckpt_path=\"best\", test_dataloaders=dataloader_test)"
   ]
  },
  {
   "cell_type": "code",
   "execution_count": null,
   "metadata": {},
   "outputs": [],
   "source": [
    "# Cargar los paquetes utilizados a neptune\n",
    "log_packages_neptune(neptune_logger)"
   ]
  },
  {
   "cell_type": "code",
   "execution_count": null,
   "metadata": {},
   "outputs": [],
   "source": [
    "# Cargar el mapeo de clases con valores enteros a neptune\n",
    "log_mapping_neptune(mapping, neptune_logger)"
   ]
  },
  {
   "cell_type": "code",
   "execution_count": null,
   "metadata": {},
   "outputs": [],
   "source": [
    "# Cargar el modelo a neptune\n",
    "if params['LOG_MODEL']:\n",
    "    checkpoint_path = pathlib.Path(checkpoint_callback.best_model_path)\n",
    "    log_model_neptune(checkpoint_path=checkpoint_path,\n",
    "                      save_directory=pathlib.Path.home(),\n",
    "                      name='best_model.pt',\n",
    "                      neptune_logger=neptune_logger)"
   ]
  },
  {
   "cell_type": "code",
   "execution_count": null,
   "metadata": {},
   "outputs": [],
   "source": [
    "# Parar el cargador\n",
    "neptune_logger.experiment.stop()\n",
    "print(\"Finished\")"
   ]
  }
 ],
 "metadata": {
  "kernelspec": {
   "display_name": "CDGPU",
   "language": "python",
   "name": "cdgpu"
  },
  "language_info": {
   "codemirror_mode": {
    "name": "ipython",
    "version": 3
   },
   "file_extension": ".py",
   "mimetype": "text/x-python",
   "name": "python",
   "nbconvert_exporter": "python",
   "pygments_lexer": "ipython3",
   "version": "3.7.3"
  }
 },
 "nbformat": 4,
 "nbformat_minor": 4
}
